{
 "cells": [
  {
   "cell_type": "code",
   "execution_count": 1,
   "metadata": {},
   "outputs": [],
   "source": [
    "import os\n",
    "\n",
    "import numpy as np\n",
    "import pandas as pd\n",
    "import matplotlib.pyplot as plt"
   ]
  },
  {
   "cell_type": "code",
   "execution_count": 2,
   "metadata": {},
   "outputs": [],
   "source": [
    "%matplotlib widget"
   ]
  },
  {
   "cell_type": "code",
   "execution_count": 3,
   "metadata": {},
   "outputs": [
    {
     "name": "stdout",
     "output_type": "stream",
     "text": [
      "README.md     \u001b[0m\u001b[01;34mdatasets\u001b[0m/     \u001b[01;34mmodels\u001b[0m/     \u001b[01;34mscripts\u001b[0m/  \u001b[01;34mtrainers\u001b[0m/\n",
      "\u001b[01;34m__pycache__\u001b[0m/  \u001b[01;34mdistributed\u001b[0m/  \u001b[01;34mnotebooks\u001b[0m/  temp      \u001b[01;34mutils\u001b[0m/\n",
      "\u001b[01;34mconfigs\u001b[0m/      \u001b[01;34mlogs\u001b[0m/         prepare.py  train.py\n"
     ]
    }
   ],
   "source": [
    "ls .."
   ]
  },
  {
   "cell_type": "code",
   "execution_count": 4,
   "metadata": {},
   "outputs": [
    {
     "name": "stdout",
     "output_type": "stream",
     "text": [
      "2 train batch 0 loss 0.0775 l1 4003.12 l2 30.4848 grad 2.241 idx 48891\n",
      "4 train batch 0 loss 0.0732 l1 4003.12 l2 30.4848 grad 2.241 idx 14705\n",
      "6 train batch 0 loss 0.0722 l1 4003.12 l2 30.4848 grad 2.241 idx 34559\n",
      "3 train batch 0 loss 0.0744 l1 4003.12 l2 30.4848 grad 2.241 idx 38492\n",
      "0 train batch 0 loss 0.0755 l1 4003.12 l2 30.4848 grad 2.241 idx 7233\n",
      "1 train batch 0 loss 0.0706 l1 4003.12 l2 30.4848 grad 2.241 idx 14759\n",
      "7 train batch 0 loss 0.0833 l1 4003.12 l2 30.4848 grad 2.241 idx 42289\n",
      "5 train batch 0 loss 0.0706 l1 4003.12 l2 30.4848 grad 2.241 idx 9181\n",
      "1 train batch 1 loss 0.0702 l1 4003.15 l2 30.4849 grad 0.946 idx 35995\n",
      "3 train batch 1 loss 0.0767 l1 4003.15 l2 30.4849 grad 0.946 idx 38965\n"
     ]
    }
   ],
   "source": [
    "!head ../temp"
   ]
  },
  {
   "cell_type": "code",
   "execution_count": 5,
   "metadata": {},
   "outputs": [],
   "source": [
    "data = pd.read_csv('../temp', delim_whitespace=True,\n",
    "                   names=['worker', 'batch', 'loss', 'l1', 'l2', 'grad', 'idx'],\n",
    "                   usecols=[0, 3, 5, 7, 9, 11, 13])"
   ]
  },
  {
   "cell_type": "code",
   "execution_count": 6,
   "metadata": {},
   "outputs": [
    {
     "data": {
      "text/html": [
       "<div>\n",
       "<style scoped>\n",
       "    .dataframe tbody tr th:only-of-type {\n",
       "        vertical-align: middle;\n",
       "    }\n",
       "\n",
       "    .dataframe tbody tr th {\n",
       "        vertical-align: top;\n",
       "    }\n",
       "\n",
       "    .dataframe thead th {\n",
       "        text-align: right;\n",
       "    }\n",
       "</style>\n",
       "<table border=\"1\" class=\"dataframe\">\n",
       "  <thead>\n",
       "    <tr style=\"text-align: right;\">\n",
       "      <th></th>\n",
       "      <th>worker</th>\n",
       "      <th>batch</th>\n",
       "      <th>loss</th>\n",
       "      <th>l1</th>\n",
       "      <th>l2</th>\n",
       "      <th>grad</th>\n",
       "      <th>idx</th>\n",
       "    </tr>\n",
       "  </thead>\n",
       "  <tbody>\n",
       "    <tr>\n",
       "      <td>0</td>\n",
       "      <td>2</td>\n",
       "      <td>0</td>\n",
       "      <td>0.0775</td>\n",
       "      <td>4003.12</td>\n",
       "      <td>30.4848</td>\n",
       "      <td>2.241</td>\n",
       "      <td>48891</td>\n",
       "    </tr>\n",
       "    <tr>\n",
       "      <td>1</td>\n",
       "      <td>4</td>\n",
       "      <td>0</td>\n",
       "      <td>0.0732</td>\n",
       "      <td>4003.12</td>\n",
       "      <td>30.4848</td>\n",
       "      <td>2.241</td>\n",
       "      <td>14705</td>\n",
       "    </tr>\n",
       "    <tr>\n",
       "      <td>2</td>\n",
       "      <td>6</td>\n",
       "      <td>0</td>\n",
       "      <td>0.0722</td>\n",
       "      <td>4003.12</td>\n",
       "      <td>30.4848</td>\n",
       "      <td>2.241</td>\n",
       "      <td>34559</td>\n",
       "    </tr>\n",
       "    <tr>\n",
       "      <td>3</td>\n",
       "      <td>3</td>\n",
       "      <td>0</td>\n",
       "      <td>0.0744</td>\n",
       "      <td>4003.12</td>\n",
       "      <td>30.4848</td>\n",
       "      <td>2.241</td>\n",
       "      <td>38492</td>\n",
       "    </tr>\n",
       "    <tr>\n",
       "      <td>4</td>\n",
       "      <td>0</td>\n",
       "      <td>0</td>\n",
       "      <td>0.0755</td>\n",
       "      <td>4003.12</td>\n",
       "      <td>30.4848</td>\n",
       "      <td>2.241</td>\n",
       "      <td>7233</td>\n",
       "    </tr>\n",
       "  </tbody>\n",
       "</table>\n",
       "</div>"
      ],
      "text/plain": [
       "   worker  batch    loss       l1       l2   grad    idx\n",
       "0       2      0  0.0775  4003.12  30.4848  2.241  48891\n",
       "1       4      0  0.0732  4003.12  30.4848  2.241  14705\n",
       "2       6      0  0.0722  4003.12  30.4848  2.241  34559\n",
       "3       3      0  0.0744  4003.12  30.4848  2.241  38492\n",
       "4       0      0  0.0755  4003.12  30.4848  2.241   7233"
      ]
     },
     "execution_count": 6,
     "metadata": {},
     "output_type": "execute_result"
    }
   ],
   "source": [
    "data.head()"
   ]
  },
  {
   "cell_type": "code",
   "execution_count": 7,
   "metadata": {},
   "outputs": [],
   "source": [
    "# rank 0 data\n",
    "data0 = data[data.worker == 0]"
   ]
  },
  {
   "cell_type": "code",
   "execution_count": 8,
   "metadata": {},
   "outputs": [
    {
     "data": {
      "application/vnd.jupyter.widget-view+json": {
       "model_id": "e2ac483ed94744069a94a2de984571b0",
       "version_major": 2,
       "version_minor": 0
      },
      "text/plain": [
       "Canvas(toolbar=Toolbar(toolitems=[('Home', 'Reset original view', 'home', 'home'), ('Back', 'Back to previous …"
      ]
     },
     "metadata": {},
     "output_type": "display_data"
    }
   ],
   "source": [
    "plt.figure(figsize=(8, 6))\n",
    "plt.scatter(data.batch, data.loss, s=1)\n",
    "plt.plot(data0.batch, data0.loss)\n",
    "plt.xlabel('Batch')\n",
    "plt.ylabel('Loss')\n",
    "plt.title('Training loss');"
   ]
  },
  {
   "cell_type": "code",
   "execution_count": 9,
   "metadata": {},
   "outputs": [
    {
     "data": {
      "application/vnd.jupyter.widget-view+json": {
       "model_id": "5543340562994e57a163c42e00d68f51",
       "version_major": 2,
       "version_minor": 0
      },
      "text/plain": [
       "Canvas(toolbar=Toolbar(toolitems=[('Home', 'Reset original view', 'home', 'home'), ('Back', 'Back to previous …"
      ]
     },
     "metadata": {},
     "output_type": "display_data"
    }
   ],
   "source": [
    "plt.figure(figsize=(9,6))\n",
    "plt.plot(data0.batch, data0.l2)\n",
    "plt.xlabel('Batch')\n",
    "plt.ylabel('L2 weight norm')\n",
    "plt.title('Model weight norm');"
   ]
  },
  {
   "cell_type": "code",
   "execution_count": 10,
   "metadata": {},
   "outputs": [
    {
     "data": {
      "application/vnd.jupyter.widget-view+json": {
       "model_id": "d80f53f576ea4ff391a23d3ee224bf11",
       "version_major": 2,
       "version_minor": 0
      },
      "text/plain": [
       "Canvas(toolbar=Toolbar(toolitems=[('Home', 'Reset original view', 'home', 'home'), ('Back', 'Back to previous …"
      ]
     },
     "metadata": {},
     "output_type": "display_data"
    }
   ],
   "source": [
    "plt.figure(figsize=(9,6))\n",
    "plt.plot(data0.batch, data0.grad)\n",
    "plt.xlabel('Batch')\n",
    "plt.ylabel('Gradient norm')\n",
    "plt.title('Gradient norm');\n",
    "plt.grid()"
   ]
  },
  {
   "cell_type": "markdown",
   "metadata": {},
   "source": [
    "Based on the grad plot, it looks like things go wonky starting in batch 266. The loss then starts going wonky in batch 267. It's not clear precisely where things get weird. The peaks build somewhat gradually. However, let's start by looking at the samples in batch 266."
   ]
  },
  {
   "cell_type": "code",
   "execution_count": 11,
   "metadata": {},
   "outputs": [
    {
     "data": {
      "text/html": [
       "<div>\n",
       "<style scoped>\n",
       "    .dataframe tbody tr th:only-of-type {\n",
       "        vertical-align: middle;\n",
       "    }\n",
       "\n",
       "    .dataframe tbody tr th {\n",
       "        vertical-align: top;\n",
       "    }\n",
       "\n",
       "    .dataframe thead th {\n",
       "        text-align: right;\n",
       "    }\n",
       "</style>\n",
       "<table border=\"1\" class=\"dataframe\">\n",
       "  <thead>\n",
       "    <tr style=\"text-align: right;\">\n",
       "      <th></th>\n",
       "      <th>worker</th>\n",
       "      <th>batch</th>\n",
       "      <th>loss</th>\n",
       "      <th>l1</th>\n",
       "      <th>l2</th>\n",
       "      <th>grad</th>\n",
       "      <th>idx</th>\n",
       "    </tr>\n",
       "  </thead>\n",
       "  <tbody>\n",
       "    <tr>\n",
       "      <td>2128</td>\n",
       "      <td>1</td>\n",
       "      <td>266</td>\n",
       "      <td>0.0691</td>\n",
       "      <td>4006.31</td>\n",
       "      <td>30.508</td>\n",
       "      <td>3.168</td>\n",
       "      <td>30426</td>\n",
       "    </tr>\n",
       "    <tr>\n",
       "      <td>2129</td>\n",
       "      <td>6</td>\n",
       "      <td>266</td>\n",
       "      <td>0.0729</td>\n",
       "      <td>4006.31</td>\n",
       "      <td>30.508</td>\n",
       "      <td>3.168</td>\n",
       "      <td>38365</td>\n",
       "    </tr>\n",
       "    <tr>\n",
       "      <td>2130</td>\n",
       "      <td>0</td>\n",
       "      <td>266</td>\n",
       "      <td>0.0767</td>\n",
       "      <td>4006.31</td>\n",
       "      <td>30.508</td>\n",
       "      <td>3.168</td>\n",
       "      <td>22538</td>\n",
       "    </tr>\n",
       "    <tr>\n",
       "      <td>2131</td>\n",
       "      <td>5</td>\n",
       "      <td>266</td>\n",
       "      <td>0.0755</td>\n",
       "      <td>4006.31</td>\n",
       "      <td>30.508</td>\n",
       "      <td>3.168</td>\n",
       "      <td>18115</td>\n",
       "    </tr>\n",
       "    <tr>\n",
       "      <td>2132</td>\n",
       "      <td>3</td>\n",
       "      <td>266</td>\n",
       "      <td>0.0683</td>\n",
       "      <td>4006.31</td>\n",
       "      <td>30.508</td>\n",
       "      <td>3.168</td>\n",
       "      <td>26133</td>\n",
       "    </tr>\n",
       "    <tr>\n",
       "      <td>2133</td>\n",
       "      <td>2</td>\n",
       "      <td>266</td>\n",
       "      <td>0.0762</td>\n",
       "      <td>4006.31</td>\n",
       "      <td>30.508</td>\n",
       "      <td>3.168</td>\n",
       "      <td>31060</td>\n",
       "    </tr>\n",
       "    <tr>\n",
       "      <td>2134</td>\n",
       "      <td>7</td>\n",
       "      <td>266</td>\n",
       "      <td>0.0713</td>\n",
       "      <td>4006.31</td>\n",
       "      <td>30.508</td>\n",
       "      <td>3.168</td>\n",
       "      <td>26522</td>\n",
       "    </tr>\n",
       "    <tr>\n",
       "      <td>2135</td>\n",
       "      <td>4</td>\n",
       "      <td>266</td>\n",
       "      <td>0.0736</td>\n",
       "      <td>4006.31</td>\n",
       "      <td>30.508</td>\n",
       "      <td>3.168</td>\n",
       "      <td>17986</td>\n",
       "    </tr>\n",
       "  </tbody>\n",
       "</table>\n",
       "</div>"
      ],
      "text/plain": [
       "      worker  batch    loss       l1      l2   grad    idx\n",
       "2128       1    266  0.0691  4006.31  30.508  3.168  30426\n",
       "2129       6    266  0.0729  4006.31  30.508  3.168  38365\n",
       "2130       0    266  0.0767  4006.31  30.508  3.168  22538\n",
       "2131       5    266  0.0755  4006.31  30.508  3.168  18115\n",
       "2132       3    266  0.0683  4006.31  30.508  3.168  26133\n",
       "2133       2    266  0.0762  4006.31  30.508  3.168  31060\n",
       "2134       7    266  0.0713  4006.31  30.508  3.168  26522\n",
       "2135       4    266  0.0736  4006.31  30.508  3.168  17986"
      ]
     },
     "execution_count": 11,
     "metadata": {},
     "output_type": "execute_result"
    }
   ],
   "source": [
    "batch266 = data[data.batch == 266]\n",
    "batch266"
   ]
  },
  {
   "cell_type": "code",
   "execution_count": 12,
   "metadata": {},
   "outputs": [],
   "source": [
    "idxs = batch266.idx.to_numpy()"
   ]
  },
  {
   "cell_type": "code",
   "execution_count": 13,
   "metadata": {},
   "outputs": [
    {
     "data": {
      "text/plain": [
       "array([30426, 38365, 22538, 18115, 26133, 31060, 26522, 17986])"
      ]
     },
     "execution_count": 13,
     "metadata": {},
     "output_type": "execute_result"
    }
   ],
   "source": [
    "idxs"
   ]
  },
  {
   "cell_type": "code",
   "execution_count": 14,
   "metadata": {},
   "outputs": [],
   "source": [
    "input_dir = '/global/cscratch1/sd/sfarrell/heptrkx/data/hitgraphs_high_000'"
   ]
  },
  {
   "cell_type": "code",
   "execution_count": 15,
   "metadata": {},
   "outputs": [],
   "source": [
    "filenames = np.array([os.path.join(input_dir, f) for f in os.listdir(input_dir)\n",
    "                      if f.startswith('event') and not f.endswith('_ID.npz')])"
   ]
  },
  {
   "cell_type": "code",
   "execution_count": 16,
   "metadata": {},
   "outputs": [
    {
     "data": {
      "text/plain": [
       "array(['/global/cscratch1/sd/sfarrell/heptrkx/data/hitgraphs_high_000/event000003929_g001.npz',\n",
       "       '/global/cscratch1/sd/sfarrell/heptrkx/data/hitgraphs_high_000/event000004617_g005.npz',\n",
       "       '/global/cscratch1/sd/sfarrell/heptrkx/data/hitgraphs_high_000/event000003275_g002.npz',\n",
       "       '/global/cscratch1/sd/sfarrell/heptrkx/data/hitgraphs_high_000/event000002068_g001.npz',\n",
       "       '/global/cscratch1/sd/sfarrell/heptrkx/data/hitgraphs_high_000/event000001936_g003.npz',\n",
       "       '/global/cscratch1/sd/sfarrell/heptrkx/data/hitgraphs_high_000/event000006108_g002.npz',\n",
       "       '/global/cscratch1/sd/sfarrell/heptrkx/data/hitgraphs_high_000/event000002630_g000.npz',\n",
       "       '/global/cscratch1/sd/sfarrell/heptrkx/data/hitgraphs_high_000/event000002162_g006.npz'],\n",
       "      dtype='<U85')"
      ]
     },
     "execution_count": 16,
     "metadata": {},
     "output_type": "execute_result"
    }
   ],
   "source": [
    "filenames[idxs]"
   ]
  },
  {
   "cell_type": "code",
   "execution_count": 17,
   "metadata": {},
   "outputs": [],
   "source": [
    "def process_file(filename):\n",
    "    with np.load(filename) as f:\n",
    "        n_nodes = f['X'].shape[0]\n",
    "        n_edges = f['y'].shape[0]\n",
    "        purity = f['y'].mean()\n",
    "    return dict(n_nodes=n_nodes, n_edges=n_edges, purity=purity)\n",
    "\n",
    "def process_files(filenames):\n",
    "    return (pd.DataFrame.from_records([process_file(f) for f in filenames])\n",
    "            .assign(file=filenames))\n",
    "\n",
    "def summarize_dataset(data):\n",
    "    print('Samples:', data.shape[0])\n",
    "    print('Min nodes:', data.n_nodes.min())\n",
    "    print('Max nodes:', data.n_nodes.max())\n",
    "    print('Min edges:', data.n_edges.min())\n",
    "    print('Max edges:', data.n_edges.max())\n",
    "    print('Mean purity: %.4f' % data.purity.mean())"
   ]
  },
  {
   "cell_type": "code",
   "execution_count": 18,
   "metadata": {},
   "outputs": [],
   "source": [
    "graphs = process_files(filenames[idxs])"
   ]
  },
  {
   "cell_type": "code",
   "execution_count": 19,
   "metadata": {},
   "outputs": [
    {
     "data": {
      "text/html": [
       "<div>\n",
       "<style scoped>\n",
       "    .dataframe tbody tr th:only-of-type {\n",
       "        vertical-align: middle;\n",
       "    }\n",
       "\n",
       "    .dataframe tbody tr th {\n",
       "        vertical-align: top;\n",
       "    }\n",
       "\n",
       "    .dataframe thead th {\n",
       "        text-align: right;\n",
       "    }\n",
       "</style>\n",
       "<table border=\"1\" class=\"dataframe\">\n",
       "  <thead>\n",
       "    <tr style=\"text-align: right;\">\n",
       "      <th></th>\n",
       "      <th>n_nodes</th>\n",
       "      <th>n_edges</th>\n",
       "      <th>purity</th>\n",
       "      <th>file</th>\n",
       "    </tr>\n",
       "  </thead>\n",
       "  <tbody>\n",
       "    <tr>\n",
       "      <td>0</td>\n",
       "      <td>4451</td>\n",
       "      <td>22408</td>\n",
       "      <td>0.064575</td>\n",
       "      <td>/global/cscratch1/sd/sfarrell/heptrkx/data/hit...</td>\n",
       "    </tr>\n",
       "    <tr>\n",
       "      <td>1</td>\n",
       "      <td>5031</td>\n",
       "      <td>28319</td>\n",
       "      <td>0.063173</td>\n",
       "      <td>/global/cscratch1/sd/sfarrell/heptrkx/data/hit...</td>\n",
       "    </tr>\n",
       "    <tr>\n",
       "      <td>2</td>\n",
       "      <td>4875</td>\n",
       "      <td>26364</td>\n",
       "      <td>0.063685</td>\n",
       "      <td>/global/cscratch1/sd/sfarrell/heptrkx/data/hit...</td>\n",
       "    </tr>\n",
       "    <tr>\n",
       "      <td>3</td>\n",
       "      <td>4015</td>\n",
       "      <td>18062</td>\n",
       "      <td>0.073691</td>\n",
       "      <td>/global/cscratch1/sd/sfarrell/heptrkx/data/hit...</td>\n",
       "    </tr>\n",
       "    <tr>\n",
       "      <td>4</td>\n",
       "      <td>4243</td>\n",
       "      <td>21336</td>\n",
       "      <td>0.065382</td>\n",
       "      <td>/global/cscratch1/sd/sfarrell/heptrkx/data/hit...</td>\n",
       "    </tr>\n",
       "    <tr>\n",
       "      <td>5</td>\n",
       "      <td>4504</td>\n",
       "      <td>23374</td>\n",
       "      <td>0.071062</td>\n",
       "      <td>/global/cscratch1/sd/sfarrell/heptrkx/data/hit...</td>\n",
       "    </tr>\n",
       "    <tr>\n",
       "      <td>6</td>\n",
       "      <td>3870</td>\n",
       "      <td>17700</td>\n",
       "      <td>0.074407</td>\n",
       "      <td>/global/cscratch1/sd/sfarrell/heptrkx/data/hit...</td>\n",
       "    </tr>\n",
       "    <tr>\n",
       "      <td>7</td>\n",
       "      <td>5159</td>\n",
       "      <td>29866</td>\n",
       "      <td>0.060972</td>\n",
       "      <td>/global/cscratch1/sd/sfarrell/heptrkx/data/hit...</td>\n",
       "    </tr>\n",
       "  </tbody>\n",
       "</table>\n",
       "</div>"
      ],
      "text/plain": [
       "   n_nodes  n_edges    purity  \\\n",
       "0     4451    22408  0.064575   \n",
       "1     5031    28319  0.063173   \n",
       "2     4875    26364  0.063685   \n",
       "3     4015    18062  0.073691   \n",
       "4     4243    21336  0.065382   \n",
       "5     4504    23374  0.071062   \n",
       "6     3870    17700  0.074407   \n",
       "7     5159    29866  0.060972   \n",
       "\n",
       "                                                file  \n",
       "0  /global/cscratch1/sd/sfarrell/heptrkx/data/hit...  \n",
       "1  /global/cscratch1/sd/sfarrell/heptrkx/data/hit...  \n",
       "2  /global/cscratch1/sd/sfarrell/heptrkx/data/hit...  \n",
       "3  /global/cscratch1/sd/sfarrell/heptrkx/data/hit...  \n",
       "4  /global/cscratch1/sd/sfarrell/heptrkx/data/hit...  \n",
       "5  /global/cscratch1/sd/sfarrell/heptrkx/data/hit...  \n",
       "6  /global/cscratch1/sd/sfarrell/heptrkx/data/hit...  \n",
       "7  /global/cscratch1/sd/sfarrell/heptrkx/data/hit...  "
      ]
     },
     "execution_count": 19,
     "metadata": {},
     "output_type": "execute_result"
    }
   ],
   "source": [
    "graphs"
   ]
  }
 ],
 "metadata": {
  "kernelspec": {
   "display_name": "pytorch-v1.2.0",
   "language": "python",
   "name": "pytorch-v1.2.0"
  },
  "language_info": {
   "codemirror_mode": {
    "name": "ipython",
    "version": 3
   },
   "file_extension": ".py",
   "mimetype": "text/x-python",
   "name": "python",
   "nbconvert_exporter": "python",
   "pygments_lexer": "ipython3",
   "version": "3.6.9"
  }
 },
 "nbformat": 4,
 "nbformat_minor": 4
}
